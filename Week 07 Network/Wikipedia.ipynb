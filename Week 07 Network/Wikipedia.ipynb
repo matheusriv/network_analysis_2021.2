{
  "nbformat": 4,
  "nbformat_minor": 0,
  "metadata": {
    "colab": {
      "name": "Wikipedia.ipynb",
      "provenance": [],
      "toc_visible": true
    },
    "kernelspec": {
      "name": "python3",
      "display_name": "Python 3"
    },
    "language_info": {
      "name": "python"
    }
  },
  "cells": [
    {
      "cell_type": "markdown",
      "metadata": {
        "id": "Tirw9HnrTuau"
      },
      "source": [
        "# 1.0 Case Study: constructing a network of wikipedia pages"
      ]
    },
    {
      "cell_type": "markdown",
      "metadata": {
        "id": "ryNuGuF5aK6t"
      },
      "source": [
        "## 1.1 Introduction"
      ]
    },
    {
      "cell_type": "markdown",
      "metadata": {
        "id": "K4U4cYABYxsK"
      },
      "source": [
        "So far we have learned two ways of constructing a complex network:\n",
        "- from a CSV file \n",
        "- manually\n",
        "\n",
        "What is hard for small networks may be impossible for medium-to-large scale networks; it may be impossible even for small networks if you must repeat the analysis many\n",
        "times. The case study in this lesson shows you **how to construct a large\n",
        "network in an easy way**:  \n",
        "- automatically collecting node and edge data from the Internet.\n",
        "\n",
        "The other goal of this study (aside from mastering new network construction\n",
        "techniques) is quite pragmatic. \n",
        "- Wouldn’t you want to know where the **complex\n",
        "network analysis** fits in the context of other subjects and disciplines? \n",
        "\n",
        "An answer to this question is near at hand: [on Wikipedia](https://en.wikipedia.org/wiki/Complex_network).\n",
        "\n",
        "\n",
        "Let’s start with the Wikipedia page about complex networks—the seed page.\n",
        "(Unfortunately, there is no page on complex network analysis itself.) The page\n",
        "body has external links and links to other Wikipedia pages. Those other pages\n",
        "presumably are somewhat related to complex networks, or else why would\n",
        "the Wikipedia editors provide them?\n",
        "To build a network out of the seed page and other relevant pages, **let’s treat\n",
        "the pages (and the respective Wikipedia subjects) as the network nodes and\n",
        "the links between the pages as the network edges**. You will use snowball\n",
        "sampling (a breadth-first search or [BFS algorithm](https://en.wikipedia.org/wiki/Breadth-first_search)) to discover all the nodes and edges of interest.\n",
        "\n",
        "<img width=\"200\" src=\"https://drive.google.com/uc?export=view&id=1t9ZXB5Q-wRt_qWbf8eU_1RiTwVGaStHU\">\n",
        "\n",
        "As a result, you will have a network of all pages related to complex networks\n",
        "and hopefully, you will make some conclusions about it."
      ]
    },
    {
      "cell_type": "markdown",
      "metadata": {
        "id": "JnNVv00Aalcx"
      },
      "source": [
        "## 1.2 Get the Data, Build the Network"
      ]
    },
    {
      "cell_type": "markdown",
      "metadata": {
        "id": "5DofZOgJa9Nf"
      },
      "source": [
        "The first half of the project script consists of:\n",
        "\n",
        "1. the initialization prologue\n",
        "2. a heavy-duty loop that retrieves the Wikipedia pages and simultaneously builds the network of nodes and edges.\n",
        "\n",
        "Let’s first import all necessary modules. We will need:\n",
        "\n",
        "- the module **wikipedia** for fetching and exploring Wikipedia pages\n",
        "- the operator **itemgetter** for sorting a list of tuples\n",
        "- and, naturally, **networkx** itself.\n",
        "\n",
        "To target the **snowballing process**, define the constant **SEED, the name of the\n",
        "starting page**. \n",
        "\n",
        "> As a side note, by changing the name of the seed page, you can\n",
        "apply this analysis to any other subject on Wikipedia.\n",
        "\n",
        "\n",
        "Last but not least, when you start the snowballing, you will eventually (and\n",
        "quite soon) bump into the pages describing ISBN and ISSN numbers, the\n",
        "arXiv, PubMed, and the like. Almost all other Wikipedia pages refer to one or\n",
        "more of those pages. This hyper-connectedness transforms any network into\n",
        "a collection of almost perfect gigantic stars, making all Wikipedia-based networks\n",
        "look similar. **To avoid the stardom syndrome**, treat the known “star”\n",
        "pages as stop words in information retrieval—in other words, ignore any links\n",
        "to them. \n",
        "\n",
        "Constructing the **black list of stop words**, STOPS, is a matter of trial\n",
        "and error. We put thirteen subjects on it; you may want to add more when you\n",
        "come across other “stars.” We also excluded pages whose names begin with\n",
        "**\"List of\"**, because they are simply lists of other subjects."
      ]
    },
    {
      "cell_type": "code",
      "metadata": {
        "id": "zyD6-e-34h5P",
        "outputId": "08c5b7cd-f62d-48f1-a51d-2314907e144d",
        "colab": {
          "base_uri": "https://localhost:8080/"
        }
      },
      "source": [
        "# always check the current version in github\n",
        "!pip install networkx==2.6.2"
      ],
      "execution_count": 1,
      "outputs": [
        {
          "output_type": "stream",
          "name": "stdout",
          "text": [
            "Collecting networkx==2.6.2\n",
            "  Downloading networkx-2.6.2-py3-none-any.whl (1.9 MB)\n",
            "\u001b[K     |████████████████████████████████| 1.9 MB 25.1 MB/s \n",
            "\u001b[?25hInstalling collected packages: networkx\n",
            "  Attempting uninstall: networkx\n",
            "    Found existing installation: networkx 2.6.3\n",
            "    Uninstalling networkx-2.6.3:\n",
            "      Successfully uninstalled networkx-2.6.3\n",
            "\u001b[31mERROR: pip's dependency resolver does not currently take into account all the packages that are installed. This behaviour is the source of the following dependency conflicts.\n",
            "albumentations 0.1.12 requires imgaug<0.2.7,>=0.2.5, but you have imgaug 0.2.9 which is incompatible.\u001b[0m\n",
            "Successfully installed networkx-2.6.2\n"
          ]
        }
      ]
    },
    {
      "cell_type": "code",
      "metadata": {
        "id": "sQcOSXayXX1W",
        "outputId": "4fe19580-e2ed-4244-bc79-929bfc167bb9",
        "colab": {
          "base_uri": "https://localhost:8080/"
        }
      },
      "source": [
        "!pip install wikipedia"
      ],
      "execution_count": 2,
      "outputs": [
        {
          "output_type": "stream",
          "name": "stdout",
          "text": [
            "Collecting wikipedia\n",
            "  Downloading wikipedia-1.4.0.tar.gz (27 kB)\n",
            "Requirement already satisfied: beautifulsoup4 in /usr/local/lib/python3.7/dist-packages (from wikipedia) (4.6.3)\n",
            "Requirement already satisfied: requests<3.0.0,>=2.0.0 in /usr/local/lib/python3.7/dist-packages (from wikipedia) (2.23.0)\n",
            "Requirement already satisfied: idna<3,>=2.5 in /usr/local/lib/python3.7/dist-packages (from requests<3.0.0,>=2.0.0->wikipedia) (2.10)\n",
            "Requirement already satisfied: urllib3!=1.25.0,!=1.25.1,<1.26,>=1.21.1 in /usr/local/lib/python3.7/dist-packages (from requests<3.0.0,>=2.0.0->wikipedia) (1.24.3)\n",
            "Requirement already satisfied: chardet<4,>=3.0.2 in /usr/local/lib/python3.7/dist-packages (from requests<3.0.0,>=2.0.0->wikipedia) (3.0.4)\n",
            "Requirement already satisfied: certifi>=2017.4.17 in /usr/local/lib/python3.7/dist-packages (from requests<3.0.0,>=2.0.0->wikipedia) (2021.10.8)\n",
            "Building wheels for collected packages: wikipedia\n",
            "  Building wheel for wikipedia (setup.py) ... \u001b[?25l\u001b[?25hdone\n",
            "  Created wheel for wikipedia: filename=wikipedia-1.4.0-py3-none-any.whl size=11696 sha256=5667b42cbd3457eec21cde1996cdf4fe440cf29c1368da21f2630dcfad5e6284\n",
            "  Stored in directory: /root/.cache/pip/wheels/15/93/6d/5b2c68b8a64c7a7a04947b4ed6d89fb557dcc6bc27d1d7f3ba\n",
            "Successfully built wikipedia\n",
            "Installing collected packages: wikipedia\n",
            "Successfully installed wikipedia-1.4.0\n"
          ]
        }
      ]
    },
    {
      "cell_type": "code",
      "metadata": {
        "id": "MINWDN4gTzAC"
      },
      "source": [
        "from operator import itemgetter\n",
        "import networkx as nx\n",
        "import wikipedia\n",
        "import matplotlib.pyplot as plt\n",
        "from google.colab import files"
      ],
      "execution_count": 3,
      "outputs": []
    },
    {
      "cell_type": "code",
      "metadata": {
        "id": "lVqdt1994G2J",
        "outputId": "602d82df-7031-49a1-c10d-84ab5cea2908",
        "colab": {
          "base_uri": "https://localhost:8080/",
          "height": 35
        }
      },
      "source": [
        "nx.__version__"
      ],
      "execution_count": 4,
      "outputs": [
        {
          "output_type": "execute_result",
          "data": {
            "application/vnd.google.colaboratory.intrinsic+json": {
              "type": "string"
            },
            "text/plain": [
              "'2.6.2'"
            ]
          },
          "metadata": {},
          "execution_count": 4
        }
      ]
    },
    {
      "cell_type": "code",
      "metadata": {
        "id": "YPTw8l5iT7z9"
      },
      "source": [
        "SEED = \"Assortativity\".title()\n",
        "STOPS = (\"International Standard Serial Number\",\n",
        "         \"International Standard Book Number\",\n",
        "         \"National Diet Library\",\n",
        "         \"International Standard Name Identifier\",\n",
        "         \"International Standard Book Number (Identifier)\",\n",
        "         \"Pubmed Identifier\", \n",
        "         \"Pubmed Central\",\n",
        "         \"Digital Object Identifier\", \n",
        "         \"Arxiv\",\n",
        "         \"Proc Natl Acad Sci Usa\", \n",
        "         \"Bibcode\",\n",
        "         \"Library Of Congress Control Number\", \n",
        "         \"Jstor\",\n",
        "         \"Doi (Identifier)\",\n",
        "         \"Isbn (Identifier)\",\n",
        "         \"Pmid (Identifier)\",\n",
        "         \"Arxiv (Identifier)\",\n",
        "         \"Bibcode (Identifier)\")"
      ],
      "execution_count": 5,
      "outputs": []
    },
    {
      "cell_type": "markdown",
      "metadata": {
        "id": "ChlfDfm7YQNY"
      },
      "source": [
        "The next code fragment deals with setting up the **snowballing process**. A\n",
        "breadth-first search, or BFS (sometimes known to computer programmers\n",
        "as a snowballing algorithm), must remember which **pages have been already\n",
        "processed** and which have been **discovered but not yet processed**. \n",
        "- the former are stored in the set **done_set**; \n",
        "- the latter, in the list **todo_lst** and **todo_set**. \n",
        "\n",
        "You need two data structures for the unprocessed pages because you want to\n",
        "know whether a page has been already recorded (an unordered lookup, *todo_set*) and\n",
        "which page is the next to be processed (an ordered lookup, *todo_lst*). \n",
        "\n",
        "\n",
        "Snowballing an extensive network—and Wikipedia with 6,196,713 articles in\n",
        "the English segment alone can produce a huge network!—takes considerable\n",
        "time.\n",
        "\n",
        "<img width=\"300\" src=\"https://drive.google.com/uc?export=view&id=1cOpkuhQEHJ3UxQOP3hoCd3KzSlqyf1AG\">\n",
        "\n",
        "Suppose you start with one seed node, and let’s say it has $N\\approx 100$ neighbors.\n",
        "Each of them has $N$ neighbors, too, to the total of $\\approx N+N×N$ nodes. The\n",
        "third round of discovery adds $\\approx N×N×N$ more nodes. The time to shave each\n",
        "next layer of nodes grows exponentially. For this exercise, let’s process only\n",
        "the seed node itself and its immediate neighbors (layers 0 and 1). Processing\n",
        "layer 2 is still feasible, but layer 3 requires $N×N×N×N\\approx 10^8$ page downloads. To keep track of the distance from the currently processed node to the seed, store both the layer to which a node belongs and the node name together as a tuple on the **todo_lst** list."
      ]
    },
    {
      "cell_type": "code",
      "metadata": {
        "id": "sy1gJQxwYdNi"
      },
      "source": [
        "todo_lst = [(0, SEED)] # The SEED is in the layer 0\n",
        "todo_set = set(SEED) # The SEED itself\n",
        "done_set = set() # Nothing is done yet"
      ],
      "execution_count": 6,
      "outputs": []
    },
    {
      "cell_type": "markdown",
      "metadata": {
        "id": "FlcRZ49jYjSr"
      },
      "source": [
        "**The output of the exercise is a NetworkX graph**. The next fragment will create\n",
        "an empty directed graph that will later absorb discovered nodes and edges.\n",
        "\n",
        "> We choose a **directed graph** because the edges that represent HTML links\n",
        "are naturally directed: a link from page A to page B does not imply a reciprocal\n",
        "link. \n",
        "\n",
        "The same fragment primes the algorithm by extracting the first “to-do” item\n",
        "(both its layer and page name) from the namesake list.\n",
        "\n"
      ]
    },
    {
      "cell_type": "code",
      "metadata": {
        "id": "z04Y-it9g5OR"
      },
      "source": [
        "g = nx.DiGraph()\n",
        "layer, page = todo_lst[0]"
      ],
      "execution_count": 7,
      "outputs": []
    },
    {
      "cell_type": "markdown",
      "metadata": {
        "id": "cCe-Cq_4hGPH"
      },
      "source": [
        "It may take a fraction of a second to execute the first five lines of the script.\n",
        "It may take the whole next year or longer to finish the next twenty lines\n",
        "because they contain the main collection/construction loop of the project."
      ]
    },
    {
      "cell_type": "code",
      "metadata": {
        "id": "ucGHcQ4-hP4V",
        "outputId": "36e59874-17c8-485a-90a1-71f8e1af2ec2",
        "colab": {
          "base_uri": "https://localhost:8080/"
        }
      },
      "source": [
        "%%time\n",
        "while layer < 2:\n",
        "  # Remove the name page of the current page from the todo_lst, \n",
        "  # and add it to the set of processed pages. \n",
        "  # If the script encounters this page again, it will skip over it.\n",
        "  del todo_lst[0]\n",
        "  done_set.add(page)\n",
        "  \n",
        "  # Show progress\n",
        "  print(layer, page) \n",
        "  \n",
        "  # Attempt to download the selected page.\n",
        "  try:\n",
        "    wiki = wikipedia.page(page)\n",
        "  except:\n",
        "    layer, page = todo_lst[0]\n",
        "    print(\"Could not load\", page)\n",
        "    continue\n",
        "  \n",
        "  for link in wiki.links:\n",
        "    link = link.title()\n",
        "    if link not in STOPS and not link.startswith(\"List Of\"):\n",
        "      if link not in todo_set and link not in done_set:\n",
        "        todo_lst.append((layer + 1, link))\n",
        "        todo_set.add(link)\n",
        "      g.add_edge(page, link)\n",
        "  layer, page = todo_lst[0]"
      ],
      "execution_count": 8,
      "outputs": [
        {
          "output_type": "stream",
          "name": "stdout",
          "text": [
            "0 Assortativity\n",
            "1 Adjacency List\n",
            "1 Adjacency Matrix\n",
            "1 Agent-Based Model\n",
            "1 Artificial Neural Network\n",
            "1 Assortative Mixing\n",
            "1 Ba Model\n",
            "Could not load Balance Theory\n",
            "1 Balance Theory\n",
            "1 Barabási–Albert Model\n",
            "1 Biological Network\n",
            "1 Bipartite Graph\n",
            "1 Blockmodeling\n",
            "Could not load Boolean Network\n",
            "1 Boolean Network\n",
            "1 Centrality\n",
            "1 Clique (Graph Theory)\n",
            "1 Clustering Coefficient\n",
            "1 Combinatorial Optimization\n",
            "1 Community Structure\n",
            "1 Complete Graph\n",
            "1 Complex Contagion\n",
            "1 Complex Network\n",
            "1 Computer Network\n",
            "1 Conditional Probability\n",
            "1 Connected Component (Graph Theory)\n",
            "1 Correlation\n",
            "1 Cut (Graph Theory)\n",
            "1 Cycle (Graph Theory)\n",
            "1 Degree (Graph Theory)\n",
            "1 Degree Distribution\n",
            "1 Dependency Network\n",
            "1 Directed Graph\n",
            "1 Distance (Graph Theory)\n",
            "1 Edge (Graph Theory)\n",
            "1 Efficiency (Network Science)\n",
            "1 Epidemic Model\n",
            "1 Erdős–Rényi Model\n",
            "1 Evolving Networks\n",
            "1 Exponential Random Graph Models\n",
            "1 Fitness Model (Network Theory)\n",
            "1 Flow Network\n",
            "1 Graph (Abstract Data Type)\n",
            "1 Graph (Discrete Mathematics)\n",
            "1 Graph Drawing\n",
            "1 Hierarchical Network Model\n",
            "1 Homophily\n",
            "1 Hyperbolic Geometric Graph\n",
            "1 Hypergraph\n",
            "1 Issn (Identifier)\n",
            "1 Incidence List\n",
            "1 Incidence Matrix\n",
            "Could not load Interdependent Networks\n",
            "1 Interdependent Networks\n",
            "1 Joint Probability Distribution\n",
            "1 Lancichinetti–Fortunato–Radicchi Benchmark\n",
            "1 Link Analysis\n",
            "1 Loop (Graph Theory)\n",
            "1 Maximum-Entropy Random Graph Model\n",
            "1 Metrics (Networking)\n",
            "1 Mixing Patterns\n",
            "1 Modularity (Networks)\n",
            "1 Multigraph\n",
            "Could not load Neighbourhood (Graph Theory)\n",
            "1 Neighbourhood (Graph Theory)\n",
            "1 Network Controllability\n",
            "1 Network Effect\n",
            "1 Network Motif\n",
            "1 Network On A Chip\n",
            "1 Network Science\n",
            "1 Network Theory\n",
            "1 Pmc (Identifier)\n",
            "Could not load Path (Graph Theory)\n",
            "1 Path (Graph Theory)\n",
            "1 Pearson Correlation Coefficient\n",
            "1 Percolation Theory\n",
            "1 Preferential Attachment\n",
            "1 Random Geometric Graph\n",
            "1 Random Graph\n",
            "1 Reciprocity (Network Science)\n",
            "1 Rich-Club Coefficient\n",
            "1 S2Cid (Identifier)\n",
            "1 Sir Model\n",
            "1 Scale-Free Network\n",
            "1 Scientific Collaboration Network\n",
            "1 Semantic Network\n",
            "1 Similarity Measure\n",
            "1 Small-World Network\n",
            "1 Social Capital\n",
            "1 Social Influence\n",
            "1 Social Network\n",
            "1 Social Network Analysis Software\n",
            "1 Social Networks\n",
            "1 Soft Configuration Model\n",
            "1 Spatial Network\n",
            "1 Stochastic Block Model\n",
            "1 Structural Cut-Off\n",
            "1 Telecommunications Network\n",
            "1 Transitive Relation\n",
            "1 Transport Network\n",
            "1 Triadic Closure\n",
            "1 Vertex (Graph Theory)\n",
            "1 Watts–Strogatz Model\n",
            "1 Weighted Network\n",
            "CPU times: user 5.72 s, sys: 426 ms, total: 6.14 s\n",
            "Wall time: 40.1 s\n"
          ]
        }
      ]
    },
    {
      "cell_type": "code",
      "metadata": {
        "id": "JrtewM_hPqJa",
        "colab": {
          "base_uri": "https://localhost:8080/"
        },
        "outputId": "a2cb0b7f-11ff-4a5c-86bd-da90ad15a955"
      },
      "source": [
        "print(\"{} nodes, {} edges\".format(len(g), nx.number_of_edges(g)))"
      ],
      "execution_count": 9,
      "outputs": [
        {
          "output_type": "stream",
          "name": "stdout",
          "text": [
            "7649 nodes, 16060 edges\n"
          ]
        }
      ]
    },
    {
      "cell_type": "markdown",
      "metadata": {
        "id": "LMX9A1-Nh-8B"
      },
      "source": [
        "The network of interest is now in the variable g. But it is “dirty”: inaccurate, incomplete, and erroneous."
      ]
    },
    {
      "cell_type": "markdown",
      "metadata": {
        "id": "qS911QoZMzb7"
      },
      "source": [
        "## 1.3 Eliminate Duplicates"
      ]
    },
    {
      "cell_type": "markdown",
      "metadata": {
        "id": "UJ_c2SOHNa7O"
      },
      "source": [
        "Many Wikipedia pages exist under two or more names. For example, there\n",
        "are pages about **Complex Network** and **Complex Networks**. The latter redirects\n",
        "to the former, but NetworkX does not know about the redirection.\n",
        "\n",
        "Accurately merging all duplicate nodes involves **natural language processing\n",
        "(NLP) tools that are outside of the scope of this course**. It may suffice to join\n",
        "only those nodes that differ by the presence/absence of the letter s at the end\n",
        "or a hyphen in the middle.\n",
        "\n",
        "Start removing self-loops (pages referring to themselves). The loops don’t change\n",
        "the network properties but affect the correctness of duplicate node elimination.\n",
        "Now, you need a list of at least some duplicate nodes. You can build it by\n",
        "looking at each node in g and checking if a node with the same name, but\n",
        "with an s at the end, is also in g. \n",
        "\n",
        "Pass each pair of duplicated node names to the function **nx.contracted_nodes(g,u,v)** that merges node v into node u in the graph g. The function reassigns all edges previously incident to v, to u. If you don’t pass the option **self_loops=False**, the function converts an edge from v to u (if any) to a self-loop."
      ]
    },
    {
      "cell_type": "code",
      "metadata": {
        "id": "8VkbRjFcBQaX"
      },
      "source": [
        "# make a copy of raw graph\n",
        "original = g.copy()"
      ],
      "execution_count": 10,
      "outputs": []
    },
    {
      "cell_type": "code",
      "metadata": {
        "id": "UFrNIuluN1__",
        "colab": {
          "base_uri": "https://localhost:8080/"
        },
        "outputId": "08ac1afa-5405-4130-f5be-a292aa6672b8"
      },
      "source": [
        "# remove self loops\n",
        "g.remove_edges_from(nx.selfloop_edges(g))\n",
        "\n",
        "# identify duplicates like that: 'network' and 'networks'\n",
        "duplicates = [(node, node + \"s\") \n",
        "              for node in g if node + \"s\" in g\n",
        "             ]\n",
        "\n",
        "for dup in duplicates:\n",
        "  # *dup is a technique named 'unpacking'\n",
        "  g = nx.contracted_nodes(g, *dup, self_loops=False)\n",
        "\n",
        "print(duplicates)\n",
        "\n",
        "duplicates = [(x, y) for x, y in \n",
        "              [(node, node.replace(\"-\", \" \")) for node in g]\n",
        "                if x != y and y in g]\n",
        "print(duplicates)\n",
        "\n",
        "for dup in duplicates:\n",
        "  g = nx.contracted_nodes(g, *dup, self_loops=False)\n",
        "\n",
        "# nx.contracted creates a new node/edge attribute called contraction\n",
        "# the value of the attribute is a dictionary, but GraphML\n",
        "# does not support dictionary attributes\n",
        "nx.set_node_attributes(g, 0,\"contraction\")\n",
        "nx.set_edge_attributes(g, 0,\"contraction\")"
      ],
      "execution_count": 11,
      "outputs": [
        {
          "output_type": "stream",
          "name": "stdout",
          "text": [
            "[('Complex Network', 'Complex Networks'), ('Random Graph', 'Random Graphs'), ('Scale-Free Network', 'Scale-Free Networks'), ('Semantic Network', 'Semantic Networks'), ('Small-World Network', 'Small-World Networks'), ('Social Network', 'Social Networks'), ('Spatial Network', 'Spatial Networks'), ('Weighted Network', 'Weighted Networks'), ('Computer Science', 'Computer Sciences'), ('Graph Database', 'Graph Databases'), ('Eigenvector', 'Eigenvectors'), ('Ant Colony Optimization Algorithm', 'Ant Colony Optimization Algorithms'), ('Complex Adaptive System', 'Complex Adaptive Systems'), ('Complex System', 'Complex Systems'), ('Partial Differential Equation', 'Partial Differential Equations'), ('Social Science', 'Social Sciences'), ('Artificial Neuron', 'Artificial Neurons'), ('Confidence Interval', 'Confidence Intervals'), ('Coupled Map Lattice', 'Coupled Map Lattices'), ('Genetic Algorithm', 'Genetic Algorithms'), ('Hyperparameter', 'Hyperparameters'), ('Ordinary Differential Equation', 'Ordinary Differential Equations'), ('Recurrent Neural Network', 'Recurrent Neural Networks'), ('Statistic', 'Statistics'), ('Clique', 'Cliques'), ('Food Web', 'Food Webs'), ('Gene Regulatory Network', 'Gene Regulatory Networks'), ('Planar Graph', 'Planar Graphs'), ('Small World Network', 'Small World Networks'), ('Computer', 'Computers'), ('Geographic Information System', 'Geographic Information Systems'), ('Http', 'Https'), ('Internet Service Provider', 'Internet Service Providers'), ('Random Variable', 'Random Variables'), ('Disjoint Set', 'Disjoint Sets'), ('Commutative Diagram', 'Commutative Diagrams'), ('Epidemic', 'Epidemics'), ('Social Group', 'Social Groups'), ('Social Norm', 'Social Norms'), ('Power-Law Distribution', 'Power-Law Distributions'), ('Neural Network', 'Neural Networks'), ('Organization', 'Organizations'), ('Exponential Random Graph Model', 'Exponential Random Graph Models'), ('Open Standard', 'Open Standards'), ('Telecommunication', 'Telecommunications'), ('Web Site', 'Web Sites'), ('Binomial Coefficient', 'Binomial Coefficients'), ('Critical Exponent', 'Critical Exponents'), ('Random Regular Graph', 'Random Regular Graphs'), ('Random Network', 'Random Networks'), ('Amino Acid', 'Amino Acids'), ('Co-Occurrence Network', 'Co-Occurrence Networks'), ('Interpersonal Relationship', 'Interpersonal Relationships'), ('Economic', 'Economics'), ('Formal Organization', 'Formal Organizations'), ('Social Interaction', 'Social Interactions'), ('Radio Wave', 'Radio Waves')]\n",
            "[('Scale-Free Network', 'Scale Free Network'), ('Small-World Network', 'Small World Network'), ('(0,1)-Matrix', '(0,1) Matrix'), ('Positive-Definite Matrix', 'Positive Definite Matrix'), ('Mean-Squared Error', 'Mean Squared Error'), ('Very-Large-Scale Integration', 'Very Large Scale Integration'), ('Prentice-Hall', 'Prentice Hall'), ('Power-Law', 'Power Law'), ('Packet-Switched Network', 'Packet Switched Network'), ('Pearson Product-Moment Correlation Coefficient', 'Pearson Product Moment Correlation Coefficient'), ('Finite-State Machine', 'Finite State Machine'), ('Power-Law Distribution', 'Power Law Distribution'), ('Data-Analysis', 'Data Analysis'), ('Next-Generation Network', 'Next Generation Network')]\n"
          ]
        }
      ]
    },
    {
      "cell_type": "code",
      "metadata": {
        "id": "Bqe2ruDmPcNH",
        "colab": {
          "base_uri": "https://localhost:8080/"
        },
        "outputId": "7c750ffe-b55a-4925-d738-9b2203193542"
      },
      "source": [
        "print(\"{} nodes, {} edges\".format(len(g), nx.number_of_edges(g)))"
      ],
      "execution_count": 12,
      "outputs": [
        {
          "output_type": "stream",
          "name": "stdout",
          "text": [
            "7578 nodes, 15253 edges\n"
          ]
        }
      ]
    },
    {
      "cell_type": "markdown",
      "metadata": {
        "id": "TulPj3ZQQAS8"
      },
      "source": [
        "## 1.4 Truncate the network"
      ]
    },
    {
      "cell_type": "markdown",
      "metadata": {
        "id": "cGjVZK35URcH"
      },
      "source": [
        "Why did you go through all those Wikipedia troubles? First, to construct a\n",
        "network of subjects related to complex networks—and here it is. Second, to\n",
        "find other significant topics related to complex networks. **But what is the\n",
        "measure of significance?**\n",
        "\n",
        "\n",
        "You will discover a variety of network measures latter in this course. For now, let’s concentrate on a **node indegree**—the number of edges directed into the node. (In the same spirit, the number of edges directed out of the node is called **outdegree**.) The indegree of a node equals the number of HTML links pointing to the respective page. **If a page has a lot of links to it, the topic of the page must be significant.**\n",
        "\n",
        "\n",
        "The choice of indegree as a yardstick of significance incidentally makes it\n",
        "possible to shrink the graph size by almost 75 percent. The extracted graph\n",
        "has 13,401 nodes and 24104 edges—an average of 1.79 edges per node. **Most\n",
        "of the nodes have only one connection**. (Interestingly, there are no isolated\n",
        "nodes with no connection in the graph. Even if they exist, you will not find\n",
        "them because of the way snowballing works.) **You can remove all nodes with\n",
        "only one incident edge to make the network more compact and less hairy\n",
        "without hurting the final results**."
      ]
    },
    {
      "cell_type": "code",
      "metadata": {
        "id": "AaHxaOwMLW9B",
        "colab": {
          "base_uri": "https://localhost:8080/",
          "height": 407
        },
        "outputId": "38b1032e-1eec-4439-c9bd-c995f88d39d9"
      },
      "source": [
        "plt.style.use(\"default\")\n",
        "# degree sequence\n",
        "degree_sequence = sorted([d for n, d in g.degree()], reverse=True)  \n",
        "\n",
        "fig, ax = plt.subplots(1,2,figsize=(8,4))\n",
        "\n",
        "# all_data has information about degree_sequence and the width of each bin\n",
        "ax[0].hist(degree_sequence)\n",
        "ax[1].hist(degree_sequence,bins=[1,2,3,4,5,6,7,8,9,10])\n",
        "\n",
        "ax[0].set_title(\"Degree Histogram\")\n",
        "ax[0].set_ylabel(\"Count\")\n",
        "ax[0].set_xlabel(\"Degree\")\n",
        "ax[0].set_ylim(0,15000)\n",
        "\n",
        "ax[1].set_title(\"Degree Histogram - Zoom\")\n",
        "ax[1].set_ylabel(\"Count\")\n",
        "ax[1].set_xlabel(\"Degree\")\n",
        "ax[1].set_xlim(0,10)\n",
        "ax[1].set_ylim(0,15000)\n",
        "\n",
        "plt.tight_layout()\n",
        "plt.show()"
      ],
      "execution_count": 13,
      "outputs": [
        {
          "output_type": "display_data",
          "data": {
            "image/png": "[encoded data removed]",
            "text/plain": [
              "<Figure size 800x400 with 2 Axes>"
            ]
          },
          "metadata": {}
        }
      ]
    },
    {
      "cell_type": "code",
      "metadata": {
        "id": "Br8-5IGIUbVT",
        "colab": {
          "base_uri": "https://localhost:8080/"
        },
        "outputId": "f773c7e1-6757-4086-b3c6-0c222f343223"
      },
      "source": [
        "# filter nodes with degree greater than or equal to 2\n",
        "core = [node for node, deg in dict(g.degree()).items() if deg >= 2]\n",
        "\n",
        "# select a subgraph with 'core' nodes\n",
        "gsub = nx.subgraph(g, core)\n",
        "\n",
        "print(\"{} nodes, {} edges\".format(len(gsub), nx.number_of_edges(gsub)))\n",
        "\n",
        "nx.write_graphml(gsub, \"cna.graphml\")"
      ],
      "execution_count": 14,
      "outputs": [
        {
          "output_type": "stream",
          "name": "stdout",
          "text": [
            "2085 nodes, 9760 edges\n"
          ]
        }
      ]
    },
    {
      "cell_type": "code",
      "source": [
        "files.download(\"cna.graphml\")"
      ],
      "metadata": {
        "id": "UvFZ3lsAjRP0",
        "colab": {
          "base_uri": "https://localhost:8080/",
          "height": 17
        },
        "outputId": "ce7d4d56-6d3c-434c-c0ef-05d65a582011"
      },
      "execution_count": 15,
      "outputs": [
        {
          "output_type": "display_data",
          "data": {
            "application/javascript": [
              "\n",
              "    async function download(id, filename, size) {\n",
              "      if (!google.colab.kernel.accessAllowed) {\n",
              "        return;\n",
              "      }\n",
              "      const div = document.createElement('div');\n",
              "      const label = document.createElement('label');\n",
              "      label.textContent = `Downloading \"${filename}\": `;\n",
              "      div.appendChild(label);\n",
              "      const progress = document.createElement('progress');\n",
              "      progress.max = size;\n",
              "      div.appendChild(progress);\n",
              "      document.body.appendChild(div);\n",
              "\n",
              "      const buffers = [];\n",
              "      let downloaded = 0;\n",
              "\n",
              "      const channel = await google.colab.kernel.comms.open(id);\n",
              "      // Send a message to notify the kernel that we're ready.\n",
              "      channel.send({})\n",
              "\n",
              "      for await (const message of channel.messages) {\n",
              "        // Send a message to notify the kernel that we're ready.\n",
              "        channel.send({})\n",
              "        if (message.buffers) {\n",
              "          for (const buffer of message.buffers) {\n",
              "            buffers.push(buffer);\n",
              "            downloaded += buffer.byteLength;\n",
              "            progress.value = downloaded;\n",
              "          }\n",
              "        }\n",
              "      }\n",
              "      const blob = new Blob(buffers, {type: 'application/binary'});\n",
              "      const a = document.createElement('a');\n",
              "      a.href = window.URL.createObjectURL(blob);\n",
              "      a.download = filename;\n",
              "      div.appendChild(a);\n",
              "      a.click();\n",
              "      div.remove();\n",
              "    }\n",
              "  "
            ],
            "text/plain": [
              "<IPython.core.display.Javascript object>"
            ]
          },
          "metadata": {}
        },
        {
          "output_type": "display_data",
          "data": {
            "application/javascript": [
              "download(\"download_4885a4d6-bd36-4a16-a66f-1209ace96278\", \"cna.graphml\", 1095607)"
            ],
            "text/plain": [
              "<IPython.core.display.Javascript object>"
            ]
          },
          "metadata": {}
        }
      ]
    },
    {
      "cell_type": "markdown",
      "metadata": {
        "id": "YSELbSFCX__7"
      },
      "source": [
        "As you can see, the following code fragment safely removes 77 percent of the\n",
        "nodes and 42 percent of the edges, raising the average number of edges per\n",
        "node to 4.35."
      ]
    },
    {
      "cell_type": "markdown",
      "metadata": {
        "id": "5zRjfGLtZ2qB"
      },
      "source": [
        "## 1.5 Explore the network"
      ]
    },
    {
      "cell_type": "markdown",
      "metadata": {
        "id": "RUMyWlK7jqkX"
      },
      "source": [
        "The following figure is a [Gephi](https://gephi.org/) rendering of **gsub**. Node\n",
        "and label font sizes represent the indegrees (a filter was added in gephi just to show only node with indegree greater than 50). The most in-connected, most significant\n",
        "nodes are in the upper-left corner of the network. What are they?\n",
        "\n",
        "<img width=\"600\" src=\"https://drive.google.com/uc?export=view&id=1Cemnpe6yBttyZ8Vw2i9ifMiWx9psIV7C\">\n",
        "\n",
        "\n",
        "The last code fragment of the exercise efficiently calculates the answer by\n",
        "calling the method **gsub.in_degree()**. The method (and its sister method **gsub.out_degree()**)\n",
        "are very similar to **gsub.degree()** except that they report different edge counts in the form of objects InDegreeView and OutDegreeView, respectively."
      ]
    },
    {
      "cell_type": "code",
      "metadata": {
        "id": "gwlRxZ2kmDL-",
        "colab": {
          "base_uri": "https://localhost:8080/"
        },
        "outputId": "994db92d-45d0-4f84-ee38-a63d93e7ce4b"
      },
      "source": [
        "top_indegree = sorted(dict(gsub.in_degree()).items(),\n",
        "                      reverse=True, key=itemgetter(1))[:100]\n",
        "print(\"\\n\".join(map(lambda t: \"{} {}\".format(*reversed(t)), top_indegree)))"
      ],
      "execution_count": 16,
      "outputs": [
        {
          "output_type": "stream",
          "name": "stdout",
          "text": [
            "64 Graph (Discrete Mathematics)\n",
            "63 Vertex (Graph Theory)\n",
            "57 Directed Graph\n",
            "56 S2Cid (Identifier)\n",
            "54 Social Network\n",
            "54 Degree (Graph Theory)\n",
            "53 Adjacency Matrix\n",
            "51 Edge (Graph Theory)\n",
            "50 Bipartite Graph\n",
            "50 Graph (Abstract Data Type)\n",
            "50 Graph Drawing\n",
            "49 Incidence Matrix\n",
            "49 Complete Graph\n",
            "49 Path (Graph Theory)\n",
            "48 Multigraph\n",
            "48 Blockmodeling\n",
            "47 Cycle (Graph Theory)\n",
            "47 Social Network Analysis Software\n",
            "47 Loop (Graph Theory)\n",
            "47 Network Theory\n",
            "46 Adjacency List\n",
            "46 Complex Contagion\n",
            "46 Clustering Coefficient\n",
            "46 Social Capital\n",
            "45 Hypergraph\n",
            "45 Erdős–Rényi Model\n",
            "45 Complex Network\n",
            "44 Distance (Graph Theory)\n",
            "44 Clique (Graph Theory)\n",
            "44 Neighbourhood (Graph Theory)\n",
            "44 Percolation Theory\n",
            "44 Connected Component (Graph Theory)\n",
            "44 Small-World Network\n",
            "44 Flow Network\n",
            "43 Cut (Graph Theory)\n",
            "43 Network Science\n",
            "43 Preferential Attachment\n",
            "43 Weighted Network\n",
            "43 Degree Distribution\n",
            "43 Centrality\n",
            "42 Computer Network\n",
            "42 Fitness Model (Network Theory)\n",
            "42 Random Graph\n",
            "42 Assortativity\n",
            "42 Semantic Network\n",
            "42 Triadic Closure\n",
            "42 Scale-Free Network\n",
            "42 Pmc (Identifier)\n",
            "42 Transitive Relation\n",
            "41 Link Analysis\n",
            "41 Barabási–Albert Model\n",
            "41 Incidence List\n",
            "41 Transport Network\n",
            "41 Sir Model\n",
            "41 Agent-Based Model\n",
            "41 Epidemic Model\n",
            "41 Network Controllability\n",
            "41 Metrics (Networking)\n",
            "41 Social Influence\n",
            "41 Telecommunications Network\n",
            "41 Network Effect\n",
            "41 Stochastic Block Model\n",
            "41 Dependency Network\n",
            "41 Evolving Networks\n",
            "41 Community Structure\n",
            "41 Lancichinetti–Fortunato–Radicchi Benchmark\n",
            "41 Balance Theory\n",
            "41 Combinatorial Optimization\n",
            "41 Homophily\n",
            "40 Maximum-Entropy Random Graph Model\n",
            "40 Hierarchical Network Model\n",
            "40 Boolean Network\n",
            "40 Modularity (Networks)\n",
            "40 Watts–Strogatz Model\n",
            "40 Biological Network\n",
            "40 Network On A Chip\n",
            "40 Exponential Random Graph Model\n",
            "40 Random Geometric Graph\n",
            "40 Scientific Collaboration Network\n",
            "40 Hyperbolic Geometric Graph\n",
            "40 Efficiency (Network Science)\n",
            "40 Spatial Network\n",
            "40 Artificial Neural Network\n",
            "40 Network Motif\n",
            "40 Interdependent Networks\n",
            "40 Reciprocity (Network Science)\n",
            "40 Soft Configuration Model\n",
            "39 Graph Theory\n",
            "39 Issn (Identifier)\n",
            "32 Citeseerx (Identifier)\n",
            "23 Hdl (Identifier)\n",
            "22 Social Network Analysis\n",
            "20 Jstor (Identifier)\n",
            "18 Mathematics\n",
            "17 Statistic\n",
            "16 Computer Science\n",
            "15 Mr (Identifier)\n",
            "14 Oclc (Identifier)\n",
            "14 Glossary Of Graph Theory\n",
            "13 Machine Learning\n"
          ]
        }
      ]
    },
    {
      "cell_type": "markdown",
      "metadata": {
        "id": "6PQT-sl0mulb"
      },
      "source": [
        "**Exercise**\n",
        "\n",
        "<img width=\"100\" src=\"https://drive.google.com/uc?export=view&id=1E8tR7B9YYUXsU_rddJAyq0FrM0MSelxZ\">\n",
        "\n",
        "\n",
        "- This section presented a complete complex network construction case study,\n",
        "starting from the raw data in the form of HTML pages, all the way to an analyzable\n",
        "annotated network graph and a simple exploratory exercise. This is\n",
        "a good foundation for more systematic complex network studies. Now is your turn, choice a topic of your interest and reproduce yourself a complet complex network case study. \n",
        "\n",
        "- Some examples (not limited to):\n",
        "\n",
        "  - https://en.wikipedia.org/wiki/Black_Lives_Matter\n",
        "  - https://en.wikipedia.org/wiki/COVID-19\n",
        "  - https://en.wikipedia.org/wiki/Harry_Potter\n",
        "  - https://en.wikipedia.org/wiki/Sherlock_Holmes\n",
        "  - https://en.wikipedia.org/wiki/Augusto_Severo_de_Albuquerque_Maranh%C3%A3o\n",
        "  - https://en.wikipedia.org/wiki/Brazil\n",
        "  - https://en.wikipedia.org/wiki/Bitcoin\n",
        "  - https://en.wikipedia.org/wiki/Federal_University_of_Rio_Grande_do_Norte\n",
        "  - https://en.wikipedia.org/wiki/Petrobras\n",
        "  - https://en.wikipedia.org/wiki/List_of_presidents_of_Brazil\n",
        "- Explore some metrics studied in Unit 01 to highlight insights in your analysis."
      ]
    },
    {
      "cell_type": "code",
      "metadata": {
        "id": "MzoPkyYOnrud"
      },
      "source": [
        "# put your results here"
      ],
      "execution_count": 17,
      "outputs": []
    }
  ]
}