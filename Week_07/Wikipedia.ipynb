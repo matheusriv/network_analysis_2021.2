{
  "nbformat": 4,
  "nbformat_minor": 0,
  "metadata": {
    "colab": {
      "name": "Wikipedia.ipynb",
      "provenance": [],
      "toc_visible": true
    },
    "kernelspec": {
      "name": "python3",
      "display_name": "Python 3"
    },
    "language_info": {
      "name": "python"
    }
  },
  "cells": [
    {
      "cell_type": "markdown",
      "metadata": {
        "id": "Tirw9HnrTuau"
      },
      "source": [
        "# 1.0 Case Study: constructing a network of wikipedia pages"
      ]
    },
    {
      "cell_type": "markdown",
      "metadata": {
        "id": "ryNuGuF5aK6t"
      },
      "source": [
        "## 1.1 Introduction"
      ]
    },
    {
      "cell_type": "markdown",
      "metadata": {
        "id": "K4U4cYABYxsK"
      },
      "source": [
        "So far we have learned two ways of constructing a complex network:\n",
        "- from a CSV file \n",
        "- manually\n",
        "\n",
        "What is hard for small networks may be impossible for medium-to-large scale networks; it may be impossible even for small networks if you must repeat the analysis many\n",
        "times. The case study in this lesson shows you **how to construct a large\n",
        "network in an easy way**:  \n",
        "- automatically collecting node and edge data from the Internet.\n",
        "\n",
        "The other goal of this study (aside from mastering new network construction\n",
        "techniques) is quite pragmatic. \n",
        "- Wouldn’t you want to know where the **complex\n",
        "network analysis** fits in the context of other subjects and disciplines? \n",
        "\n",
        "An answer to this question is near at hand: [on Wikipedia](https://en.wikipedia.org/wiki/Complex_network).\n",
        "\n",
        "\n",
        "To build a network out of the seed page and other relevant pages, **let’s treat\n",
        "the pages (and the respective Wikipedia subjects) as the network nodes and\n",
        "the links between the pages as the network edges**. You will use snowball\n",
        "sampling (a breadth-first search or [BFS algorithm](https://en.wikipedia.org/wiki/Breadth-first_search)) to discover all the nodes and edges of interest.\n",
        "\n",
        "<img width=\"200\" src=\"https://drive.google.com/uc?export=view&id=1t9ZXB5Q-wRt_qWbf8eU_1RiTwVGaStHU\">\n",
        "\n",
        "As a result, you will have a network of all pages related\n",
        "and hopefully, you will make some conclusions about it."
      ]
    },
    {
      "cell_type": "markdown",
      "metadata": {
        "id": "JnNVv00Aalcx"
      },
      "source": [
        "## 1.2 Get the Data, Build the Network"
      ]
    },
    {
      "cell_type": "markdown",
      "metadata": {
        "id": "5DofZOgJa9Nf"
      },
      "source": [
        "The first half of the project script consists of:\n",
        "\n",
        "1. the initialization prologue\n",
        "2. a heavy-duty loop that retrieves the Wikipedia pages and simultaneously builds the network of nodes and edges.\n",
        "\n",
        "Let’s first import all necessary modules. We will need:\n",
        "\n",
        "- the module **wikipedia** for fetching and exploring Wikipedia pages\n",
        "- the operator **itemgetter** for sorting a list of tuples\n",
        "- and, naturally, **networkx** itself.\n",
        "\n",
        "To target the **snowballing process**, define the constant **SEED, the name of the\n",
        "starting page**. \n",
        "\n",
        "> As a side note, by changing the name of the seed page, you can\n",
        "apply this analysis to any other subject on Wikipedia.\n",
        "\n",
        "\n",
        "Last but not least, when you start the snowballing, you will eventually (and\n",
        "quite soon) bump into the pages describing ISBN and ISSN numbers, the\n",
        "arXiv, PubMed, and the like. Almost all other Wikipedia pages refer to one or\n",
        "more of those pages. This hyper-connectedness transforms any network into\n",
        "a collection of almost perfect gigantic stars, making all Wikipedia-based networks\n",
        "look similar. **To avoid the stardom syndrome**, treat the known “star”\n",
        "pages as stop words in information retrieval—in other words, ignore any links\n",
        "to them. \n",
        "\n",
        "Constructing the **black list of stop words**, STOPS, is a matter of trial\n",
        "and error. We put thirteen subjects on it; you may want to add more when you\n",
        "come across other “stars.” We also excluded pages whose names begin with\n",
        "**\"List of\"**, because they are simply lists of other subjects."
      ]
    },
    {
      "cell_type": "code",
      "metadata": {
        "id": "zyD6-e-34h5P",
        "outputId": "53197270-b727-4611-cd13-04cca0d01dea",
        "colab": {
          "base_uri": "https://localhost:8080/"
        }
      },
      "source": [
        "# always check the current version in github\n",
        "!pip install networkx==2.6.2"
      ],
      "execution_count": 1,
      "outputs": [
        {
          "output_type": "stream",
          "name": "stdout",
          "text": [
            "Collecting networkx==2.6.2\n",
            "  Downloading networkx-2.6.2-py3-none-any.whl (1.9 MB)\n",
            "\u001b[K     |████████████████████████████████| 1.9 MB 3.9 MB/s \n",
            "\u001b[?25hInstalling collected packages: networkx\n",
            "  Attempting uninstall: networkx\n",
            "    Found existing installation: networkx 2.6.3\n",
            "    Uninstalling networkx-2.6.3:\n",
            "      Successfully uninstalled networkx-2.6.3\n",
            "\u001b[31mERROR: pip's dependency resolver does not currently take into account all the packages that are installed. This behaviour is the source of the following dependency conflicts.\n",
            "albumentations 0.1.12 requires imgaug<0.2.7,>=0.2.5, but you have imgaug 0.2.9 which is incompatible.\u001b[0m\n",
            "Successfully installed networkx-2.6.2\n"
          ]
        }
      ]
    },
    {
      "cell_type": "code",
      "metadata": {
        "id": "sQcOSXayXX1W",
        "outputId": "f19e17f9-a80b-4a76-e2fb-5e1bebe6a726",
        "colab": {
          "base_uri": "https://localhost:8080/"
        }
      },
      "source": [
        "!pip install wikipedia"
      ],
      "execution_count": 2,
      "outputs": [
        {
          "output_type": "stream",
          "name": "stdout",
          "text": [
            "Collecting wikipedia\n",
            "  Downloading wikipedia-1.4.0.tar.gz (27 kB)\n",
            "Requirement already satisfied: beautifulsoup4 in /usr/local/lib/python3.7/dist-packages (from wikipedia) (4.6.3)\n",
            "Requirement already satisfied: requests<3.0.0,>=2.0.0 in /usr/local/lib/python3.7/dist-packages (from wikipedia) (2.23.0)\n",
            "Requirement already satisfied: certifi>=2017.4.17 in /usr/local/lib/python3.7/dist-packages (from requests<3.0.0,>=2.0.0->wikipedia) (2021.10.8)\n",
            "Requirement already satisfied: idna<3,>=2.5 in /usr/local/lib/python3.7/dist-packages (from requests<3.0.0,>=2.0.0->wikipedia) (2.10)\n",
            "Requirement already satisfied: chardet<4,>=3.0.2 in /usr/local/lib/python3.7/dist-packages (from requests<3.0.0,>=2.0.0->wikipedia) (3.0.4)\n",
            "Requirement already satisfied: urllib3!=1.25.0,!=1.25.1,<1.26,>=1.21.1 in /usr/local/lib/python3.7/dist-packages (from requests<3.0.0,>=2.0.0->wikipedia) (1.24.3)\n",
            "Building wheels for collected packages: wikipedia\n",
            "  Building wheel for wikipedia (setup.py) ... \u001b[?25l\u001b[?25hdone\n",
            "  Created wheel for wikipedia: filename=wikipedia-1.4.0-py3-none-any.whl size=11696 sha256=543dd85e576dff5de721fe90ee376b83fa121f4e77b72f89c50474414a4de3b1\n",
            "  Stored in directory: /root/.cache/pip/wheels/15/93/6d/5b2c68b8a64c7a7a04947b4ed6d89fb557dcc6bc27d1d7f3ba\n",
            "Successfully built wikipedia\n",
            "Installing collected packages: wikipedia\n",
            "Successfully installed wikipedia-1.4.0\n"
          ]
        }
      ]
    },
    {
      "cell_type": "code",
      "metadata": {
        "id": "MINWDN4gTzAC"
      },
      "source": [
        "from operator import itemgetter\n",
        "import networkx as nx\n",
        "import wikipedia\n",
        "import matplotlib.pyplot as plt\n",
        "from google.colab import files"
      ],
      "execution_count": 3,
      "outputs": []
    },
    {
      "cell_type": "code",
      "metadata": {
        "id": "lVqdt1994G2J",
        "outputId": "0dbc461c-3ea9-473f-e97d-32567b27e035",
        "colab": {
          "base_uri": "https://localhost:8080/",
          "height": 35
        }
      },
      "source": [
        "nx.__version__"
      ],
      "execution_count": 4,
      "outputs": [
        {
          "output_type": "execute_result",
          "data": {
            "application/vnd.google.colaboratory.intrinsic+json": {
              "type": "string"
            },
            "text/plain": [
              "'2.6.2'"
            ]
          },
          "metadata": {},
          "execution_count": 4
        }
      ]
    },
    {
      "cell_type": "code",
      "metadata": {
        "id": "YPTw8l5iT7z9"
      },
      "source": [
        "SEED = \"2001: A Space Odyssey (novel)\".title()\n",
        "STOPS = (\"International Standard Serial Number\",\n",
        "         \"International Standard Book Number\",\n",
        "         \"National Diet Library\",\n",
        "         \"International Standard Name Identifier\",\n",
        "         \"International Standard Book Number (Identifier)\",\n",
        "         \"Pubmed Identifier\", \n",
        "         \"Pubmed Central\",\n",
        "         \"Digital Object Identifier\", \n",
        "         \"Arxiv\",\n",
        "         \"Proc Natl Acad Sci Usa\", \n",
        "         \"Bibcode\",\n",
        "         \"Library Of Congress Control Number\", \n",
        "         \"Jstor\",\n",
        "         \"Doi (Identifier)\",\n",
        "         \"Isbn (Identifier)\",\n",
        "         \"Pmid (Identifier)\",\n",
        "         \"Arxiv (Identifier)\",\n",
        "         \"Bibcode (Identifier)\",\n",
        "         \"Lcc (Identifier)\",\n",
        "         \"Oclc (Identifier)\",\n",
        "         \"Isni (Identifier)\",\n",
        "         \"Rero (Identifier)\",\n",
        "         \"Citerseerx (Identifier)\",\n",
        "         \"Jstor (Identifier)\",\n",
        "         \"Viaf (Identifier)\",\n",
        "         \"S2Cid (Identifier)\",\n",
        "         \"Issn (Identifier)\",\n",
        "         \"Sudoc (Identifier)\",\n",
        "         \"Mbrg (Identifier)\",\n",
        "         \"Lccn (Identifier)\",\n",
        "         \"Pmc (Identifier)\",\n",
        "         \"Trove (Identifier)\",\n",
        "         \"Asin (Identifier)\",\n",
        "         \"Hdl (Identifier)\")"
      ],
      "execution_count": 5,
      "outputs": []
    },
    {
      "cell_type": "markdown",
      "metadata": {
        "id": "ChlfDfm7YQNY"
      },
      "source": [
        "The next code fragment deals with setting up the **snowballing process**. A\n",
        "breadth-first search, or BFS (sometimes known to computer programmers\n",
        "as a snowballing algorithm), must remember which **pages have been already\n",
        "processed** and which have been **discovered but not yet processed**. \n",
        "- the former are stored in the set **done_set**; \n",
        "- the latter, in the list **todo_lst** and **todo_set**. \n",
        "\n",
        "You need two data structures for the unprocessed pages because you want to\n",
        "know whether a page has been already recorded (an unordered lookup, *todo_set*) and\n",
        "which page is the next to be processed (an ordered lookup, *todo_lst*). \n",
        "\n",
        "\n",
        "Snowballing an extensive network—and Wikipedia with 6,196,713 articles in\n",
        "the English segment alone can produce a huge network!—takes considerable\n",
        "time.\n",
        "\n",
        "<img width=\"300\" src=\"https://drive.google.com/uc?export=view&id=1cOpkuhQEHJ3UxQOP3hoCd3KzSlqyf1AG\">\n",
        "\n",
        "Suppose you start with one seed node, and let’s say it has $N\\approx 100$ neighbors.\n",
        "Each of them has $N$ neighbors, too, to the total of $\\approx N+N×N$ nodes. The\n",
        "third round of discovery adds $\\approx N×N×N$ more nodes. The time to shave each\n",
        "next layer of nodes grows exponentially. For this exercise, let’s process only\n",
        "the seed node itself and its immediate neighbors (layers 0 and 1). Processing\n",
        "layer 2 is still feasible, but layer 3 requires $N×N×N×N\\approx 10^8$ page downloads. To keep track of the distance from the currently processed node to the seed, store both the layer to which a node belongs and the node name together as a tuple on the **todo_lst** list."
      ]
    },
    {
      "cell_type": "code",
      "metadata": {
        "id": "sy1gJQxwYdNi"
      },
      "source": [
        "todo_lst = [(0, SEED)] # The SEED is in the layer 0\n",
        "todo_set = set(SEED) # The SEED itself\n",
        "done_set = set() # Nothing is done yet"
      ],
      "execution_count": 6,
      "outputs": []
    },
    {
      "cell_type": "markdown",
      "metadata": {
        "id": "FlcRZ49jYjSr"
      },
      "source": [
        "**The output of the exercise is a NetworkX graph**. The next fragment will create\n",
        "an empty directed graph that will later absorb discovered nodes and edges.\n",
        "\n",
        "> We choose a **directed graph** because the edges that represent HTML links\n",
        "are naturally directed: a link from page A to page B does not imply a reciprocal\n",
        "link. \n",
        "\n",
        "The same fragment primes the algorithm by extracting the first “to-do” item\n",
        "(both its layer and page name) from the namesake list.\n",
        "\n"
      ]
    },
    {
      "cell_type": "code",
      "metadata": {
        "id": "z04Y-it9g5OR"
      },
      "source": [
        "g = nx.DiGraph()\n",
        "layer, page = todo_lst[0]"
      ],
      "execution_count": 7,
      "outputs": []
    },
    {
      "cell_type": "markdown",
      "metadata": {
        "id": "cCe-Cq_4hGPH"
      },
      "source": [
        "It may take a fraction of a second to execute the first five lines of the script.\n",
        "It may take the whole next year or longer to finish the next twenty lines\n",
        "because they contain the main collection/construction loop of the project."
      ]
    },
    {
      "cell_type": "code",
      "metadata": {
        "id": "ucGHcQ4-hP4V",
        "outputId": "6e48baab-9bc9-4bf0-cdc7-4d6de0da3cb6",
        "colab": {
          "base_uri": "https://localhost:8080/"
        }
      },
      "source": [
        "%%time\n",
        "while layer < 2:\n",
        "  # Remove the name page of the current page from the todo_lst, \n",
        "  # and add it to the set of processed pages. \n",
        "  # If the script encounters this page again, it will skip over it.\n",
        "  del todo_lst[0]\n",
        "  done_set.add(page)\n",
        "  \n",
        "  # Show progress\n",
        "  print(layer, page) \n",
        "  \n",
        "  # Attempt to download the selected page.\n",
        "  try:\n",
        "    wiki = wikipedia.page(page)\n",
        "  except:\n",
        "    layer, page = todo_lst[0]\n",
        "    print(\"Could not load\", page)\n",
        "    continue\n",
        "  \n",
        "  for link in wiki.links:\n",
        "    link = link.title()\n",
        "    if link not in STOPS and not link.startswith(\"List Of\"):\n",
        "      if link not in todo_set and link not in done_set:\n",
        "        todo_lst.append((layer + 1, link))\n",
        "        todo_set.add(link)\n",
        "      g.add_edge(page, link)\n",
        "  layer, page = todo_lst[0]"
      ],
      "execution_count": 8,
      "outputs": [
        {
          "output_type": "stream",
          "name": "stdout",
          "text": [
            "0 2001: A Space Odyssey (Novel)\n",
            "1 2001: A Space Odyssey\n",
            "1 2001: A Space Odyssey (Comics)\n",
            "1 2001: A Space Odyssey (Film)\n",
            "1 2001: A Space Odyssey (Score)\n",
            "1 2001: A Space Odyssey (Soundtrack)\n",
            "1 2001: A Space Odyssey In Popular Culture\n",
            "1 2010: Odyssey Two\n",
            "1 2010: The Year We Make Contact\n",
            "1 2010 (Film)\n",
            "1 2061: Odyssey Three\n",
            "1 3001: The Final Odyssey\n",
            "1 4923 Clarke\n",
            "1 9000 Hal\n",
            "1 A Fall Of Moondust\n",
            "Could not load A Time Odyssey\n",
            "1 A Time Odyssey\n",
            "1 Advent (Publisher)\n",
            "1 Against The Fall Of Night\n",
            "1 Amazing Stories\n",
            "1 An Encyclopedia Of Claims, Frauds, And Hoaxes Of The Occult And Supernatural\n",
            "1 Arthur C. Clarke\n",
            "Could not load Arthur C. Clarke'S Mysterious Universe\n",
            "1 Arthur C. Clarke'S Mysterious Universe\n",
            "1 Arthur C. Clarke'S Mysterious World\n",
            "1 Arthur C. Clarke'S World Of Strange Powers\n",
            "1 Arthur C. Clarke Award\n",
            "1 Arthur C. Clarke Institute For Modern Technologies\n",
            "1 Arthur C. Clarke Bibliography\n",
            "1 Arthur C. Clarke In Media\n",
            "1 Artificial Intelligence\n",
            "1 Australopithecus Africanus\n",
            "1 Before Present\n",
            "1 Broadway Books\n",
            "1 Chesley Bonestell\n",
            "1 Childhood'S End\n",
            "1 Childhood'S End (Miniseries)\n",
            "1 Clarke'S Three Laws\n",
            "1 Clavius Base\n",
            "1 Club (Weapon)\n",
            "1 Cold War\n",
            "Could not load Cradle (Novel)\n",
            "1 Cradle (Novel)\n",
            "1 Da Capo Press\n",
            "1 David Bowman (Space Odyssey)\n",
            "1 Discovery One\n",
            "1 Dolphin Island (Novel)\n",
            "1 Donald H. Tuck\n",
            "1 Douglas Trumbull\n",
            "1 Eva Pod\n",
            "1 Earthlight\n",
            "1 Emergency Shelter\n",
            "1 Encounter In The Dawn\n",
            "1 Eugene M. Emme\n",
            "1 Expedition To Earth\n",
            "1 Firstborn (Clarke And Baxter Novel)\n",
            "1 Frank Poole\n",
            "1 Frederick I. Ordway Iii\n",
            "1 Frederik Pohl\n",
            "1 Grb 080319B\n",
            "1 Ganymede City\n"
          ]
        },
        {
          "output_type": "stream",
          "name": "stderr",
          "text": [
            "/usr/local/lib/python3.7/dist-packages/wikipedia/wikipedia.py:389: UserWarning: No parser was explicitly specified, so I'm using the best available HTML parser for this system (\"lxml\"). This usually isn't a problem, but if you run this code on another system, or in a different virtual environment, it may use a different parser and behave differently.\n",
            "\n",
            "The code that caused this warning is on line 389 of the file /usr/local/lib/python3.7/dist-packages/wikipedia/wikipedia.py. To get rid of this warning, pass the additional argument 'features=\"lxml\"' to the BeautifulSoup constructor.\n",
            "\n",
            "  lis = BeautifulSoup(html).find_all('li')\n"
          ]
        },
        {
          "output_type": "stream",
          "name": "stdout",
          "text": [
            "Could not load Gentry Lee\n",
            "1 Gentry Lee\n",
            "1 Geostationary Orbit\n",
            "1 Glide Path\n",
            "1 God, The Universe And Everything Else\n",
            "1 Great Basses Wreck\n",
            "1 Hal 9000\n",
            "Could not load Heywood Floyd\n",
            "1 Heywood Floyd\n",
            "1 Hominid\n",
            "1 How The World Was One\n",
            "1 Hutchinson (Publisher)\n",
            "1 Iapetus (Moon)\n",
            "1 Immortality\n",
            "Could not load Imperial Earth\n",
            "1 Imperial Earth\n",
            "1 Internet Speculative Fiction Database\n",
            "1 Interplanetary Flight: An Introduction To Astronautics\n",
            "1 Interpretations Of 2001: A Space Odyssey\n",
            "1 Islands In The Sky\n",
            "1 James Blish\n",
            "Could not load Jupiter\n",
            "1 Jupiter\n",
            "1 Latin Language\n",
            "1 Latin Spelling And Pronunciation\n",
            "1 Leopard\n",
            "1 Machine Man\n",
            "1 Mcfarland & Company\n",
            "1 Michael P. Kube-Mcdowell\n",
            "1 Mike Mcquay\n",
            "1 Mission Control Center\n",
            "1 Monolith (Space Odyssey)\n",
            "1 More Than One Universe\n",
            "1 New American Library\n",
            "1 Of Time And Stars\n",
            "1 Orbital Mechanics\n",
            "1 Poole Versus Hal 9000\n",
            "1 Prelude To Space\n",
            "1 Project Barsoom\n",
            "1 Rama (Video Game)\n",
            "Could not load Rama Ii (Novel)\n",
            "1 Rama Ii (Novel)\n",
            "1 Rama Revealed\n",
            "1 Reach For Tomorrow\n",
            "1 Rendezvous With Rama\n",
            "1 Rendezvous With Rama (Video Game)\n",
            "1 Richter 10\n",
            "1 Robert Mccall (Artist)\n",
            "1 Rocket Launch\n",
            "1 Roger Ebert\n",
            "Could not load Saturn\n",
            "1 Saturn\n",
            "1 Saturn'S Rings\n",
            "1 Science Fiction\n",
            "1 Self-Defense\n",
            "1 Serendipaceratops\n",
            "1 Signet Books\n",
            "1 Silent Running\n",
            "1 Sir Arthur Clarke Award\n",
            "1 Sleep\n",
            "1 Space Odyssey\n",
            "1 Space Shuttle\n",
            "1 Space Toilet\n",
            "1 Space Warfare\n",
            "1 Stanley Kubrick\n",
            "1 Stephen Baxter (Author)\n",
            "1 Sunstorm (Novel)\n",
            "1 Suspended Animation\n",
            "1 Tales From Planet Earth\n",
            "1 Tales From The White Hart\n",
            "1 Tales Of Ten Worlds\n",
            "1 Technologies In 2001: A Space Odyssey\n",
            "1 The Best Of Arthur C. Clarke\n",
            "1 The City And The Stars\n",
            "1 The Collected Stories Of Arthur C. Clarke\n",
            "1 The Conquest Of Space\n",
            "1 The Deep Range\n",
            "1 The Fountains Of Paradise\n",
            "1 The Garden Of Rama\n",
            "1 The Ghost From The Grand Banks\n",
            "1 The Hammer Of God (Clarke Novel)\n",
            "1 The Last Theorem\n",
            "1 The Light Of Other Days\n",
            "1 The Lost Worlds Of 2001\n",
            "1 The Nine Billion Names Of God (Collection)\n",
            "1 The Nine Billion Names Of God (Film)\n",
            "1 The Other Side Of The Sky\n",
            "1 The Sands Of Mars\n",
            "1 The Sentinel (Anthology)\n",
            "1 The Sentinel (Short Story)\n",
            "1 The Songs Of Distant Earth\n",
            "1 The Songs Of Distant Earth (Album)\n",
            "1 The Space Odyssey Series\n",
            "1 The Star (The Twilight Zone)\n",
            "1 The Trigger\n",
            "Could not load The View From Serendip\n",
            "1 The View From Serendip\n",
            "1 The Wind From The Sun\n",
            "1 Tie-In\n",
            "Could not load Time'S Eye (Novel)\n",
            "1 Time'S Eye (Novel)\n",
            "1 Toynbee Tiles\n",
            "1 Tycho (Crater)\n",
            "1 Tycho Magnetic Anomaly Tma-1\n",
            "1 Willy Ley\n",
            "Could not load 100 Cult Films\n",
            "CPU times: user 8.86 s, sys: 623 ms, total: 9.48 s\n",
            "Wall time: 2min 21s\n"
          ]
        }
      ]
    },
    {
      "cell_type": "code",
      "metadata": {
        "id": "JrtewM_hPqJa",
        "colab": {
          "base_uri": "https://localhost:8080/"
        },
        "outputId": "ea5347b6-ffb5-46a4-ef4c-092c16dbb012"
      },
      "source": [
        "print(\"{} nodes, {} edges\".format(len(g), nx.number_of_edges(g)))"
      ],
      "execution_count": 9,
      "outputs": [
        {
          "output_type": "stream",
          "name": "stdout",
          "text": [
            "17669 nodes, 32398 edges\n"
          ]
        }
      ]
    },
    {
      "cell_type": "markdown",
      "metadata": {
        "id": "LMX9A1-Nh-8B"
      },
      "source": [
        "The network of interest is now in the variable g. But it is “dirty”: inaccurate, incomplete, and erroneous."
      ]
    },
    {
      "cell_type": "markdown",
      "metadata": {
        "id": "qS911QoZMzb7"
      },
      "source": [
        "## 1.3 Eliminate Duplicates"
      ]
    },
    {
      "cell_type": "markdown",
      "metadata": {
        "id": "UJ_c2SOHNa7O"
      },
      "source": [
        "Many Wikipedia pages exist under two or more names. For example, there\n",
        "are pages about **Complex Network** and **Complex Networks**. The latter redirects\n",
        "to the former, but NetworkX does not know about the redirection.\n",
        "\n",
        "Accurately merging all duplicate nodes involves **natural language processing\n",
        "(NLP) tools that are outside of the scope of this course**. It may suffice to join\n",
        "only those nodes that differ by the presence/absence of the letter s at the end\n",
        "or a hyphen in the middle.\n",
        "\n",
        "Start removing self-loops (pages referring to themselves). The loops don’t change\n",
        "the network properties but affect the correctness of duplicate node elimination.\n",
        "Now, you need a list of at least some duplicate nodes. You can build it by\n",
        "looking at each node in g and checking if a node with the same name, but\n",
        "with an s at the end, is also in g. \n",
        "\n",
        "Pass each pair of duplicated node names to the function **nx.contracted_nodes(g,u,v)** that merges node v into node u in the graph g. The function reassigns all edges previously incident to v, to u. If you don’t pass the option **self_loops=False**, the function converts an edge from v to u (if any) to a self-loop."
      ]
    },
    {
      "cell_type": "code",
      "metadata": {
        "id": "8VkbRjFcBQaX"
      },
      "source": [
        "# make a copy of raw graph\n",
        "original = g.copy()"
      ],
      "execution_count": 10,
      "outputs": []
    },
    {
      "cell_type": "code",
      "metadata": {
        "id": "UFrNIuluN1__",
        "colab": {
          "base_uri": "https://localhost:8080/"
        },
        "outputId": "15e7ffbf-f0ab-4488-f997-4498e636ef78"
      },
      "source": [
        "# remove self loops\n",
        "g.remove_edges_from(nx.selfloop_edges(g))\n",
        "\n",
        "# identify duplicates like that: 'network' and 'networks'\n",
        "duplicates = [(node, node + \"s\") \n",
        "              for node in g if node + \"s\" in g\n",
        "             ]\n",
        "\n",
        "for dup in duplicates:\n",
        "  # *dup is a technique named 'unpacking'\n",
        "  g = nx.contracted_nodes(g, *dup, self_loops=False)\n",
        "\n",
        "print(duplicates)\n",
        "\n",
        "duplicates = [(x, y) for x, y in \n",
        "              [(node, node.replace(\"-\", \" \")) for node in g]\n",
        "                if x != y and y in g]\n",
        "print(duplicates)\n",
        "\n",
        "for dup in duplicates:\n",
        "  g = nx.contracted_nodes(g, *dup, self_loops=False)\n",
        "\n",
        "# nx.contracted creates a new node/edge attribute called contraction\n",
        "# the value of the attribute is a dictionary, but GraphML\n",
        "# does not support dictionary attributes\n",
        "nx.set_node_attributes(g, 0,\"contraction\")\n",
        "nx.set_edge_attributes(g, 0,\"contraction\")"
      ],
      "execution_count": 11,
      "outputs": [
        {
          "output_type": "stream",
          "name": "stdout",
          "text": [
            "[('Film Score', 'Film Scores'), ('Retcon', 'Retcons'), ('Comet', 'Comets'), ('Detached Object', 'Detached Objects'), ('Near-Earth Object', 'Near-Earth Objects'), ('Computer', 'Computers'), ('Pulp Magazine', 'Pulp Magazines'), ('Science Fiction Convention', 'Science Fiction Conventions'), ('Academy Award', 'Academy Awards'), ('Academic Journal', 'Academic Journals'), ('Deepfake', 'Deepfakes'), ('Evolutionary Algorithm', 'Evolutionary Algorithms'), ('Expert System', 'Expert Systems'), ('Genetic Algorithm', 'Genetic Algorithms'), ('Heuristic', 'Heuristics'), ('Idea', 'Ideas'), ('Intelligent Agent', 'Intelligent Agents'), ('Recommendation System', 'Recommendation Systems'), ('Recurrent Neural Network', 'Recurrent Neural Networks'), ('Robot', 'Robots'), ('Robotic', 'Robotics'), ('Self-Driving Car', 'Self-Driving Cars'), ('Archaic Human', 'Archaic Humans'), ('Australopithecine', 'Australopithecines'), ('Hominin', 'Hominins'), ('Orangutan', 'Orangutans'), ('Archaeologist', 'Archaeologists'), ('Light Year', 'Light Years'), ('Taser', 'Tasers'), ('Weapon', 'Weapons'), ('Aerodynamic', 'Aerodynamics'), ('Rupee', 'Rupees'), ('Great Ape', 'Great Apes'), ('Hominoid', 'Hominoids'), ('Irregular Moon', 'Irregular Moons'), ('Artificial Satellite', 'Artificial Satellites'), ('Rolling Stone', 'Rolling Stones'), ('Brown Dwarf', 'Brown Dwarfs'), ('Galilean Moon', 'Galilean Moons'), ('Participle', 'Participles'), ('Phoneme', 'Phonemes'), ('Romance Language', 'Romance Languages'), ('Self-Replicating Machine', 'Self-Replicating Machines'), ('Firework', 'Fireworks'), ('Jet Pack', 'Jet Packs'), ('Latitude', 'Latitudes'), ('Reaction Engine', 'Reaction Engines'), ('Radio Occultation', 'Radio Occultations'), ('B Movie', 'B Movies'), ('Chesley Award', 'Chesley Awards'), ('Filmmaker', 'Filmmakers'), ('Nuclear Weapon', 'Nuclear Weapons'), ('Paleontologist', 'Paleontologists'), ('Special Effect', 'Special Effects'), ('Subgenre', 'Subgenres'), ('Combative', 'Combatives'), ('Tall Tale', 'Tall Tales'), ('Matte Painting', 'Matte Paintings'), ('Supercomputer', 'Supercomputers'), ('Integer', 'Integers'), ('Tektite', 'Tektites')]\n",
            "[('Light-Year', 'Light Year'), ('Science-Fiction Fanzine', 'Science Fiction Fanzine'), ('Case-Based Reasoning', 'Case Based Reasoning'), ('Guided-Missile', 'Guided Missile'), ('B-Movie', 'B Movie'), ('Sci-Fi', 'Sci Fi'), ('Science-Fantasy', 'Science Fantasy'), ('Tech-Noir', 'Tech Noir'), ('World-Wide Web', 'World Wide Web'), ('Hand-To-Hand Combat', 'Hand To Hand Combat'), ('Krav-Maga', 'Krav Maga'), ('Stick-Fighting', 'Stick Fighting')]\n"
          ]
        }
      ]
    },
    {
      "cell_type": "code",
      "metadata": {
        "id": "Bqe2ruDmPcNH",
        "colab": {
          "base_uri": "https://localhost:8080/"
        },
        "outputId": "b7a4cd1a-fd0a-40e2-b371-5803b40d18f4"
      },
      "source": [
        "print(\"{} nodes, {} edges\".format(len(g), nx.number_of_edges(g)))"
      ],
      "execution_count": 12,
      "outputs": [
        {
          "output_type": "stream",
          "name": "stdout",
          "text": [
            "17596 nodes, 32338 edges\n"
          ]
        }
      ]
    },
    {
      "cell_type": "markdown",
      "metadata": {
        "id": "TulPj3ZQQAS8"
      },
      "source": [
        "## 1.4 Truncate the network"
      ]
    },
    {
      "cell_type": "markdown",
      "metadata": {
        "id": "cGjVZK35URcH"
      },
      "source": [
        "Why did you go through all those Wikipedia troubles? First, to construct a\n",
        "network of subjects related to complex networks—and here it is. Second, to\n",
        "find other significant topics related to complex networks. **But what is the\n",
        "measure of significance?**\n",
        "\n",
        "\n",
        "You will discover a variety of network measures latter in this course. For now, let’s concentrate on a **node indegree**—the number of edges directed into the node. (In the same spirit, the number of edges directed out of the node is called **outdegree**.) The indegree of a node equals the number of HTML links pointing to the respective page. **If a page has a lot of links to it, the topic of the page must be significant.**\n",
        "\n",
        "\n",
        "The choice of indegree as a yardstick of significance incidentally makes it\n",
        "possible to shrink the graph size by almost 75 percent. The extracted graph\n",
        "has 13,401 nodes and 24104 edges—an average of 1.79 edges per node. **Most\n",
        "of the nodes have only one connection**. (Interestingly, there are no isolated\n",
        "nodes with no connection in the graph. Even if they exist, you will not find\n",
        "them because of the way snowballing works.) **You can remove all nodes with\n",
        "only one incident edge to make the network more compact and less hairy\n",
        "without hurting the final results**."
      ]
    },
    {
      "cell_type": "code",
      "metadata": {
        "id": "AaHxaOwMLW9B",
        "colab": {
          "base_uri": "https://localhost:8080/",
          "height": 407
        },
        "outputId": "132e306b-d6f4-4665-bf20-5a888cbadbab"
      },
      "source": [
        "plt.style.use(\"default\")\n",
        "# degree sequence\n",
        "degree_sequence = sorted([d for n, d in g.degree()], reverse=True)  \n",
        "\n",
        "fig, ax = plt.subplots(1,2,figsize=(8,4))\n",
        "\n",
        "# all_data has information about degree_sequence and the width of each bin\n",
        "ax[0].hist(degree_sequence)\n",
        "ax[1].hist(degree_sequence,bins=[1,2,3,4,5,6,7,8,9,10])\n",
        "\n",
        "ax[0].set_title(\"Degree Histogram\")\n",
        "ax[0].set_ylabel(\"Count\")\n",
        "ax[0].set_xlabel(\"Degree\")\n",
        "ax[0].set_ylim(0,15000)\n",
        "\n",
        "ax[1].set_title(\"Degree Histogram - Zoom\")\n",
        "ax[1].set_ylabel(\"Count\")\n",
        "ax[1].set_xlabel(\"Degree\")\n",
        "ax[1].set_xlim(0,10)\n",
        "ax[1].set_ylim(0,15000)\n",
        "\n",
        "plt.tight_layout()\n",
        "plt.show()"
      ],
      "execution_count": 13,
      "outputs": [
        {
          "output_type": "display_data",
          "data": {
            "image/png": "[encoded data removed]",
            "text/plain": [
              "<Figure size 800x400 with 2 Axes>"
            ]
          },
          "metadata": {}
        }
      ]
    },
    {
      "cell_type": "code",
      "metadata": {
        "id": "Br8-5IGIUbVT",
        "colab": {
          "base_uri": "https://localhost:8080/"
        },
        "outputId": "66f78444-d449-4731-eb1e-97515cade0a0"
      },
      "source": [
        "# filter nodes with degree greater than or equal to 2\n",
        "core = [node for node, deg in dict(g.degree()).items() if deg >= 2]\n",
        "\n",
        "# select a subgraph with 'core' nodes\n",
        "gsub = nx.subgraph(g, core)\n",
        "\n",
        "print(\"{} nodes, {} edges\".format(len(gsub), nx.number_of_edges(gsub)))\n",
        "\n",
        "nx.write_graphml(gsub, \"cna.graphml\")"
      ],
      "execution_count": 14,
      "outputs": [
        {
          "output_type": "stream",
          "name": "stdout",
          "text": [
            "4318 nodes, 19060 edges\n"
          ]
        }
      ]
    },
    {
      "cell_type": "code",
      "source": [
        "files.download(\"cna.graphml\")"
      ],
      "metadata": {
        "id": "UvFZ3lsAjRP0",
        "colab": {
          "base_uri": "https://localhost:8080/",
          "height": 17
        },
        "outputId": "2211f8e0-4e37-4a46-cbd4-61bc41e140e1"
      },
      "execution_count": 15,
      "outputs": [
        {
          "output_type": "display_data",
          "data": {
            "application/javascript": [
              "\n",
              "    async function download(id, filename, size) {\n",
              "      if (!google.colab.kernel.accessAllowed) {\n",
              "        return;\n",
              "      }\n",
              "      const div = document.createElement('div');\n",
              "      const label = document.createElement('label');\n",
              "      label.textContent = `Downloading \"${filename}\": `;\n",
              "      div.appendChild(label);\n",
              "      const progress = document.createElement('progress');\n",
              "      progress.max = size;\n",
              "      div.appendChild(progress);\n",
              "      document.body.appendChild(div);\n",
              "\n",
              "      const buffers = [];\n",
              "      let downloaded = 0;\n",
              "\n",
              "      const channel = await google.colab.kernel.comms.open(id);\n",
              "      // Send a message to notify the kernel that we're ready.\n",
              "      channel.send({})\n",
              "\n",
              "      for await (const message of channel.messages) {\n",
              "        // Send a message to notify the kernel that we're ready.\n",
              "        channel.send({})\n",
              "        if (message.buffers) {\n",
              "          for (const buffer of message.buffers) {\n",
              "            buffers.push(buffer);\n",
              "            downloaded += buffer.byteLength;\n",
              "            progress.value = downloaded;\n",
              "          }\n",
              "        }\n",
              "      }\n",
              "      const blob = new Blob(buffers, {type: 'application/binary'});\n",
              "      const a = document.createElement('a');\n",
              "      a.href = window.URL.createObjectURL(blob);\n",
              "      a.download = filename;\n",
              "      div.appendChild(a);\n",
              "      a.click();\n",
              "      div.remove();\n",
              "    }\n",
              "  "
            ],
            "text/plain": [
              "<IPython.core.display.Javascript object>"
            ]
          },
          "metadata": {}
        },
        {
          "output_type": "display_data",
          "data": {
            "application/javascript": [
              "download(\"download_867b4a25-8142-48f1-a486-f55ef17514b6\", \"cna.graphml\", 2203466)"
            ],
            "text/plain": [
              "<IPython.core.display.Javascript object>"
            ]
          },
          "metadata": {}
        }
      ]
    },
    {
      "cell_type": "markdown",
      "metadata": {
        "id": "YSELbSFCX__7"
      },
      "source": [
        "As you can see, the following code fragment safely removes 77 percent of the\n",
        "nodes and 42 percent of the edges, raising the average number of edges per\n",
        "node to 4.35."
      ]
    },
    {
      "cell_type": "markdown",
      "metadata": {
        "id": "5zRjfGLtZ2qB"
      },
      "source": [
        "## 1.5 Explore the network"
      ]
    },
    {
      "cell_type": "markdown",
      "metadata": {
        "id": "RUMyWlK7jqkX"
      },
      "source": [
        "The following figure is a [Gephi](https://gephi.org/) rendering of **gsub**. Node\n",
        "and label font sizes represent the indegrees (a filter was added in gephi just to show only node with indegree greater than 50). The most in-connected, most significant\n",
        "nodes are in the upper-left corner of the network. What are they?\n",
        "\n",
        "<img width=\"600\" src=\"https://drive.google.com/uc?export=view&id=1Cemnpe6yBttyZ8Vw2i9ifMiWx9psIV7C\">\n",
        "\n",
        "\n",
        "The last code fragment of the exercise efficiently calculates the answer by\n",
        "calling the method **gsub.in_degree()**. The method (and its sister method **gsub.out_degree()**)\n",
        "are very similar to **gsub.degree()** except that they report different edge counts in the form of objects InDegreeView and OutDegreeView, respectively."
      ]
    },
    {
      "cell_type": "code",
      "metadata": {
        "id": "gwlRxZ2kmDL-",
        "colab": {
          "base_uri": "https://localhost:8080/"
        },
        "outputId": "24e04066-5588-4ad9-8fed-74f59004459b"
      },
      "source": [
        "top_indegree = sorted(dict(gsub.in_degree()).items(),\n",
        "                      reverse=True, key=itemgetter(1))[:100]\n",
        "print(\"\\n\".join(map(lambda t: \"{} {}\".format(*reversed(t)), top_indegree)))"
      ],
      "execution_count": 16,
      "outputs": [
        {
          "output_type": "stream",
          "name": "stdout",
          "text": [
            "101 Arthur C. Clarke\n",
            "94 2001: A Space Odyssey (Film)\n",
            "90 2001: A Space Odyssey (Novel)\n",
            "88 2010: The Year We Make Contact\n",
            "88 A Time Odyssey\n",
            "87 2010: Odyssey Two\n",
            "87 3001: The Final Odyssey\n",
            "87 2001: A Space Odyssey (Comics)\n",
            "87 The Lost Worlds Of 2001\n",
            "87 2061: Odyssey Three\n",
            "84 Space Odyssey\n",
            "73 Rendezvous With Rama\n",
            "73 Science Fiction\n",
            "72 Geostationary Orbit\n",
            "72 Stephen Baxter (Author)\n",
            "71 Frederik Pohl\n",
            "71 Cradle (Novel)\n",
            "71 Michael P. Kube-Mcdowell\n",
            "71 Childhood'S End\n",
            "71 The Trigger\n",
            "71 The Last Theorem\n",
            "70 Rama (Video Game)\n",
            "70 The Light Of Other Days\n",
            "70 The Garden Of Rama\n",
            "70 Sunstorm (Novel)\n",
            "70 Glide Path\n",
            "70 Rama Ii (Novel)\n",
            "70 A Fall Of Moondust\n",
            "70 Grb 080319B\n",
            "70 Mike Mcquay\n",
            "70 Arthur C. Clarke Institute For Modern Technologies\n",
            "70 Time'S Eye (Novel)\n",
            "70 Richter 10\n",
            "70 The Nine Billion Names Of God (Collection)\n",
            "70 Expedition To Earth\n",
            "70 Serendipaceratops\n",
            "70 Gentry Lee\n",
            "70 Arthur C. Clarke Award\n",
            "70 Firstborn (Clarke And Baxter Novel)\n",
            "70 Rama Revealed\n",
            "69 The Sands Of Mars\n",
            "69 The Fountains Of Paradise\n",
            "69 The Ghost From The Grand Banks\n",
            "69 Arthur C. Clarke In Media\n",
            "69 Interplanetary Flight: An Introduction To Astronautics\n",
            "69 Arthur C. Clarke Bibliography\n",
            "69 Reach For Tomorrow\n",
            "69 Great Basses Wreck\n",
            "69 The Deep Range\n",
            "69 4923 Clarke\n",
            "69 Arthur C. Clarke'S Mysterious Universe\n",
            "69 Tales Of Ten Worlds\n",
            "69 How The World Was One\n",
            "69 The Best Of Arthur C. Clarke\n",
            "69 Childhood'S End (Miniseries)\n",
            "69 The Star (The Twilight Zone)\n",
            "69 Clarke'S Three Laws\n",
            "69 The Songs Of Distant Earth (Album)\n",
            "69 The Sentinel (Anthology)\n",
            "69 Earthlight\n",
            "69 The Wind From The Sun\n",
            "69 Tales From The White Hart\n",
            "69 Imperial Earth\n",
            "69 More Than One Universe\n",
            "69 An Encyclopedia Of Claims, Frauds, And Hoaxes Of The Occult And Supernatural\n",
            "69 The Other Side Of The Sky\n",
            "69 God, The Universe And Everything Else\n",
            "69 Arthur C. Clarke'S World Of Strange Powers\n",
            "69 Sir Arthur Clarke Award\n",
            "69 Prelude To Space\n",
            "69 The City And The Stars\n",
            "69 Of Time And Stars\n",
            "69 The Hammer Of God (Clarke Novel)\n",
            "69 The Songs Of Distant Earth\n",
            "69 Rendezvous With Rama (Video Game)\n",
            "69 The Nine Billion Names Of God (Film)\n",
            "69 Tales From Planet Earth\n",
            "69 The Collected Stories Of Arthur C. Clarke\n",
            "69 The View From Serendip\n",
            "69 Against The Fall Of Night\n",
            "69 Dolphin Island (Novel)\n",
            "69 Islands In The Sky\n",
            "68 Arthur C. Clarke'S Mysterious World\n",
            "60 Internet Speculative Fiction Database\n",
            "38 The Sentinel (Short Story)\n",
            "37 Encounter In The Dawn\n",
            "34 2001: A Space Odyssey\n",
            "33 Hal 9000\n",
            "32 Stanley Kubrick\n",
            "31 Discovery One\n",
            "30 Interpretations Of 2001: A Space Odyssey\n",
            "30 Ganymede City\n",
            "29 2001: A Space Odyssey (Score)\n",
            "29 Machine Man\n",
            "29 Technologies In 2001: A Space Odyssey\n",
            "29 9000 Hal\n",
            "29 2001: A Space Odyssey In Popular Culture\n",
            "29 Clavius Base\n",
            "29 Project Barsoom\n",
            "29 2001: A Space Odyssey (Soundtrack)\n"
          ]
        }
      ]
    },
    {
      "cell_type": "markdown",
      "metadata": {
        "id": "6PQT-sl0mulb"
      },
      "source": [
        "**Exercise**\n",
        "\n",
        "<img width=\"100\" src=\"https://drive.google.com/uc?export=view&id=1E8tR7B9YYUXsU_rddJAyq0FrM0MSelxZ\">\n",
        "\n",
        "\n",
        "- This section presented a complete complex network construction case study,\n",
        "starting from the raw data in the form of HTML pages, all the way to an analyzable\n",
        "annotated network graph and a simple exploratory exercise. This is\n",
        "a good foundation for more systematic complex network studies. Now is your turn, choice a topic of your interest and reproduce yourself a complet complex network case study. \n",
        "\n",
        "- Some examples (not limited to):\n",
        "\n",
        "  - https://en.wikipedia.org/wiki/Black_Lives_Matter\n",
        "  - https://en.wikipedia.org/wiki/COVID-19\n",
        "  - https://en.wikipedia.org/wiki/Harry_Potter\n",
        "  - https://en.wikipedia.org/wiki/Sherlock_Holmes\n",
        "  - https://en.wikipedia.org/wiki/Augusto_Severo_de_Albuquerque_Maranh%C3%A3o\n",
        "  - https://en.wikipedia.org/wiki/Brazil\n",
        "  - https://en.wikipedia.org/wiki/Bitcoin\n",
        "  - https://en.wikipedia.org/wiki/Federal_University_of_Rio_Grande_do_Norte\n",
        "  - https://en.wikipedia.org/wiki/Petrobras\n",
        "  - https://en.wikipedia.org/wiki/List_of_presidents_of_Brazil\n",
        "- Explore some metrics studied in Unit 01 to highlight insights in your analysis."
      ]
    },
    {
      "cell_type": "code",
      "metadata": {
        "id": "MzoPkyYOnrud"
      },
      "source": [
        "# put your results here"
      ],
      "execution_count": 17,
      "outputs": []
    }
  ]
}